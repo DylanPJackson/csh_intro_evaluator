{
 "cells": [
  {
   "cell_type": "markdown",
   "metadata": {},
   "source": [
    "# Predict an applicant's outcome when they apply to CSH using past data. Employs logistic regression to identify potential outcome classes. Check out the README for a better explanation.  \n",
    "        \n",
    "# By : Dylan P. Jackson\n",
    "check out [my website](https://dylanpjackson.com) please <3 and maybe hire me if you want"
   ]
  },
  {
   "cell_type": "code",
   "execution_count": 15,
   "metadata": {},
   "outputs": [
    {
     "ename": "SyntaxError",
     "evalue": "invalid syntax (<ipython-input-15-66df24087edb>, line 3)",
     "output_type": "error",
     "traceback": [
      "\u001b[0;36m  File \u001b[0;32m\"<ipython-input-15-66df24087edb>\"\u001b[0;36m, line \u001b[0;32m3\u001b[0m\n\u001b[0;31m    from \"../../../repos/ai_implementations/custom_ai_utils\" import sigmoid\u001b[0m\n\u001b[0m                                                           ^\u001b[0m\n\u001b[0;31mSyntaxError\u001b[0m\u001b[0;31m:\u001b[0m invalid syntax\n"
     ]
    }
   ],
   "source": [
    "# Them imports yo (Will probably need more)\n",
    "import numpy as np\n",
    "from \"../../../repos/ai_implementations/custom_ai_utils\" import sigmoid"
   ]
  },
  {
   "cell_type": "code",
   "execution_count": 10,
   "metadata": {},
   "outputs": [
    {
     "name": "stdout",
     "output_type": "stream",
     "text": [
      "[[ 25.   0.  25.   5.   1.   2.]\n",
      " [ 30.   0.  19.   7.   1.   0.]\n",
      " [ 22.   0.  15.   2.   1.   1.]\n",
      " ..., \n",
      " [  0.   0.  27.   5.   1.   1.]\n",
      " [  8.   0.  22.   2.   1.   1.]\n",
      " [ 20.   1.   5.   2.   0.   2.]]\n"
     ]
    }
   ],
   "source": [
    "# Load in some data\n",
    "data_path = \"data/intro.csv\"\n",
    "data = np.loadtxt(data_path, delimiter = \",\", usecols = (1,2,3,4,5,6))"
   ]
  },
  {
   "cell_type": "code",
   "execution_count": null,
   "metadata": {},
   "outputs": [],
   "source": [
    "# Sigmoid function\n",
    "\n",
    "# Compute sigmoid on z, whether it be a scalar, vector, or matrix\n",
    "def sigmoid(z):\n",
    "    "
   ]
  }
 ],
 "metadata": {
  "kernelspec": {
   "display_name": "Python 3",
   "language": "python",
   "name": "python3"
  },
  "language_info": {
   "codemirror_mode": {
    "name": "ipython",
    "version": 3
   },
   "file_extension": ".py",
   "mimetype": "text/x-python",
   "name": "python",
   "nbconvert_exporter": "python",
   "pygments_lexer": "ipython3",
   "version": "3.6.6"
  }
 },
 "nbformat": 4,
 "nbformat_minor": 2
}
